{
 "cells": [
  {
   "attachments": {
    "sqlite.jpeg": {
     "image/jpeg": "[encoded data removed]"
    }
   },
   "cell_type": "markdown",
   "id": "3a2bc376",
   "metadata": {},
   "source": [
    "![sqlite.jpeg](attachment:sqlite.jpeg)"
   ]
  },
  {
   "cell_type": "markdown",
   "id": "88918908",
   "metadata": {},
   "source": [
    "# Exploratory Data Analysis with SQL (2)\n",
    "\n",
    "This notebook uses the 120 years of Olympics History dataset from Kaggle.\n",
    "\n",
    "For the purpose of practice of SQL syntax the 1% of the dataset was sampled and loaded into a sqlite database file. Hence, the database table, **`athletes`**, has just 2169 rows unlike the original dataset."
   ]
  },
  {
   "cell_type": "markdown",
   "id": "09cd476e",
   "metadata": {},
   "source": [
    "#### List of questions\n",
    "\n",
    "- Fetch the top 5 athletes who have won the most gold medals.\n",
    "- Fetch the top 5 most successful countries in olympics. Success is defined by no of medals won.\n",
    "- List down total gold medals won by each country.\n",
    "- Identify which country won the most bronze medals.\n",
    "- In which Sport/event, has United States won highest medals?\n",
    "- Break down all olympic games where india won medal for Hockey and how many medals in each olympic games."
   ]
  },
  {
   "cell_type": "markdown",
   "id": "9a4317df",
   "metadata": {},
   "source": [
    "# Connect to SQLite DB"
   ]
  },
  {
   "cell_type": "code",
   "execution_count": 1,
   "id": "ce13ec7a",
   "metadata": {},
   "outputs": [],
   "source": [
    "# !pip install sqlalchemy\n",
    "# !pip install ipython-sql"
   ]
  },
  {
   "cell_type": "code",
   "execution_count": 2,
   "id": "3c04703a",
   "metadata": {},
   "outputs": [],
   "source": [
    "%load_ext sql"
   ]
  },
  {
   "cell_type": "code",
   "execution_count": 3,
   "id": "ade3c86f",
   "metadata": {},
   "outputs": [],
   "source": [
    "import csv, sqlite3"
   ]
  },
  {
   "cell_type": "code",
   "execution_count": 4,
   "id": "210d92b4",
   "metadata": {},
   "outputs": [],
   "source": [
    "con = sqlite3.connect(\"athletes.db\")\n",
    "cur = con.cursor()"
   ]
  },
  {
   "cell_type": "code",
   "execution_count": 5,
   "id": "77c3f6de",
   "metadata": {},
   "outputs": [],
   "source": [
    "%sql sqlite:///athletes.db"
   ]
  },
  {
   "cell_type": "markdown",
   "id": "ea4909e0",
   "metadata": {},
   "source": [
    "#### 1. Fetch the top 5 athletes who have won the most gold medals."
   ]
  },
  {
   "cell_type": "code",
   "execution_count": 6,
   "id": "edac6a0b",
   "metadata": {
    "scrolled": true
   },
   "outputs": [
    {
     "name": "stdout",
     "output_type": "stream",
     "text": [
      " * sqlite:///athletes.db\n",
      "Done.\n"
     ]
    },
    {
     "data": {
      "text/html": [
       "<table>\n",
       "    <tr>\n",
       "        <th>ID</th>\n",
       "        <th>Name</th>\n",
       "        <th>Sex</th>\n",
       "        <th>Age</th>\n",
       "        <th>Height</th>\n",
       "        <th>Weight</th>\n",
       "        <th>Team</th>\n",
       "        <th>NOC</th>\n",
       "        <th>Games</th>\n",
       "        <th>Year</th>\n",
       "        <th>Season</th>\n",
       "        <th>City</th>\n",
       "        <th>Sport</th>\n",
       "        <th>Event</th>\n",
       "        <th>Medal</th>\n",
       "    </tr>\n",
       "    <tr>\n",
       "        <td>11592</td>\n",
       "        <td>Aranka Binder</td>\n",
       "        <td>F</td>\n",
       "        <td>26.0</td>\n",
       "        <td>163.0</td>\n",
       "        <td>47.0</td>\n",
       "        <td>Individual Olympic Athletes</td>\n",
       "        <td>IOA</td>\n",
       "        <td>1992 Summer</td>\n",
       "        <td>1992</td>\n",
       "        <td>Summer</td>\n",
       "        <td>Barcelona</td>\n",
       "        <td>Shooting</td>\n",
       "        <td>Shooting Women&#x27;s Air Rifle, 10 metres</td>\n",
       "        <td>Bronze</td>\n",
       "    </tr>\n",
       "    <tr>\n",
       "        <td>26774</td>\n",
       "        <td>Frederik Albert De Waele</td>\n",
       "        <td>M</td>\n",
       "        <td>33.0</td>\n",
       "        <td>None</td>\n",
       "        <td>None</td>\n",
       "        <td>Belgium</td>\n",
       "        <td>BEL</td>\n",
       "        <td>1952 Summer</td>\n",
       "        <td>1952</td>\n",
       "        <td>Summer</td>\n",
       "        <td>Helsinki</td>\n",
       "        <td>Gymnastics</td>\n",
       "        <td>Gymnastics Men&#x27;s Parallel Bars</td>\n",
       "        <td>None</td>\n",
       "    </tr>\n",
       "    <tr>\n",
       "        <td>132574</td>\n",
       "        <td>Yang Yun</td>\n",
       "        <td>F</td>\n",
       "        <td>15.0</td>\n",
       "        <td>158.0</td>\n",
       "        <td>40.0</td>\n",
       "        <td>China</td>\n",
       "        <td>CHN</td>\n",
       "        <td>2000 Summer</td>\n",
       "        <td>2000</td>\n",
       "        <td>Summer</td>\n",
       "        <td>Sydney</td>\n",
       "        <td>Gymnastics</td>\n",
       "        <td>Gymnastics Women&#x27;s Individual All-Around</td>\n",
       "        <td>None</td>\n",
       "    </tr>\n",
       "    <tr>\n",
       "        <td>73415</td>\n",
       "        <td>Jan Magiera</td>\n",
       "        <td>M</td>\n",
       "        <td>26.0</td>\n",
       "        <td>178.0</td>\n",
       "        <td>78.0</td>\n",
       "        <td>Poland</td>\n",
       "        <td>POL</td>\n",
       "        <td>1964 Summer</td>\n",
       "        <td>1964</td>\n",
       "        <td>Summer</td>\n",
       "        <td>Tokyo</td>\n",
       "        <td>Cycling</td>\n",
       "        <td>Cycling Men&#x27;s Road Race, Individual</td>\n",
       "        <td>None</td>\n",
       "    </tr>\n",
       "    <tr>\n",
       "        <td>64978</td>\n",
       "        <td>Ludwig Kng</td>\n",
       "        <td>M</td>\n",
       "        <td>26.0</td>\n",
       "        <td>172.0</td>\n",
       "        <td>68.0</td>\n",
       "        <td>Switzerland</td>\n",
       "        <td>SUI</td>\n",
       "        <td>1992 Summer</td>\n",
       "        <td>1992</td>\n",
       "        <td>Summer</td>\n",
       "        <td>Barcelona</td>\n",
       "        <td>Wrestling</td>\n",
       "        <td>Wrestling Men&#x27;s Lightweight, Freestyle</td>\n",
       "        <td>None</td>\n",
       "    </tr>\n",
       "</table>"
      ],
      "text/plain": [
       "[(11592, 'Aranka Binder', 'F', 26.0, 163.0, 47.0, 'Individual Olympic Athletes', 'IOA', '1992 Summer', 1992, 'Summer', 'Barcelona', 'Shooting', \"Shooting Women's Air Rifle, 10 metres\", 'Bronze'),\n",
       " (26774, 'Frederik Albert De Waele', 'M', 33.0, None, None, 'Belgium', 'BEL', '1952 Summer', 1952, 'Summer', 'Helsinki', 'Gymnastics', \"Gymnastics Men's Parallel Bars\", None),\n",
       " (132574, 'Yang Yun', 'F', 15.0, 158.0, 40.0, 'China', 'CHN', '2000 Summer', 2000, 'Summer', 'Sydney', 'Gymnastics', \"Gymnastics Women's Individual All-Around\", None),\n",
       " (73415, 'Jan Magiera', 'M', 26.0, 178.0, 78.0, 'Poland', 'POL', '1964 Summer', 1964, 'Summer', 'Tokyo', 'Cycling', \"Cycling Men's Road Race, Individual\", None),\n",
       " (64978, 'Ludwig Kng', 'M', 26.0, 172.0, 68.0, 'Switzerland', 'SUI', '1992 Summer', 1992, 'Summer', 'Barcelona', 'Wrestling', \"Wrestling Men's Lightweight, Freestyle\", None)]"
      ]
     },
     "execution_count": 6,
     "metadata": {},
     "output_type": "execute_result"
    }
   ],
   "source": [
    "%%sql \n",
    "SELECT *\n",
    "FROM athletes\n",
    "LIMIT 5"
   ]
  },
  {
   "cell_type": "code",
   "execution_count": 7,
   "id": "2afa92d6",
   "metadata": {},
   "outputs": [
    {
     "name": "stdout",
     "output_type": "stream",
     "text": [
      " * sqlite:///athletes.db\n",
      "Done.\n"
     ]
    },
    {
     "data": {
      "text/html": [
       "<table>\n",
       "    <tr>\n",
       "        <th>Name</th>\n",
       "        <th>Gold_Medals</th>\n",
       "    </tr>\n",
       "    <tr>\n",
       "        <td>smet Atl</td>\n",
       "        <td>1</td>\n",
       "    </tr>\n",
       "    <tr>\n",
       "        <td>Zhang Guozheng</td>\n",
       "        <td>1</td>\n",
       "    </tr>\n",
       "    <tr>\n",
       "        <td>Yoshikatsu Yoshida</td>\n",
       "        <td>1</td>\n",
       "    </tr>\n",
       "    <tr>\n",
       "        <td>Yelena Aleksandrovna Grudneva</td>\n",
       "        <td>1</td>\n",
       "    </tr>\n",
       "    <tr>\n",
       "        <td>Wladimir Reznitschenko</td>\n",
       "        <td>1</td>\n",
       "    </tr>\n",
       "</table>"
      ],
      "text/plain": [
       "[('smet Atl', 1),\n",
       " ('Zhang Guozheng', 1),\n",
       " ('Yoshikatsu Yoshida', 1),\n",
       " ('Yelena Aleksandrovna Grudneva', 1),\n",
       " ('Wladimir Reznitschenko', 1)]"
      ]
     },
     "execution_count": 7,
     "metadata": {},
     "output_type": "execute_result"
    }
   ],
   "source": [
    "%%sql\n",
    "SELECT Name, Count(Medal) as Gold_Medals\n",
    "FROM athletes\n",
    "WHERE Medal = 'Gold' GROUP BY Name ORDER BY Medal DESC LIMIT 5"
   ]
  },
  {
   "cell_type": "markdown",
   "id": "66e48afb",
   "metadata": {},
   "source": [
    "#### 2. Fetch the top 5 most successful countries in olympics. Success is defined by no of medals won."
   ]
  },
  {
   "cell_type": "code",
   "execution_count": 8,
   "id": "914fe6d5",
   "metadata": {},
   "outputs": [
    {
     "name": "stdout",
     "output_type": "stream",
     "text": [
      " * sqlite:///athletes.db\n",
      "Done.\n"
     ]
    },
    {
     "data": {
      "text/html": [
       "<table>\n",
       "    <tr>\n",
       "        <th>Team</th>\n",
       "        <th>Medals</th>\n",
       "    </tr>\n",
       "    <tr>\n",
       "        <td>United States</td>\n",
       "        <td>31</td>\n",
       "    </tr>\n",
       "    <tr>\n",
       "        <td>Germany</td>\n",
       "        <td>19</td>\n",
       "    </tr>\n",
       "    <tr>\n",
       "        <td>France</td>\n",
       "        <td>18</td>\n",
       "    </tr>\n",
       "    <tr>\n",
       "        <td>Soviet Union</td>\n",
       "        <td>17</td>\n",
       "    </tr>\n",
       "    <tr>\n",
       "        <td>Italy</td>\n",
       "        <td>15</td>\n",
       "    </tr>\n",
       "</table>"
      ],
      "text/plain": [
       "[('United States', 31),\n",
       " ('Germany', 19),\n",
       " ('France', 18),\n",
       " ('Soviet Union', 17),\n",
       " ('Italy', 15)]"
      ]
     },
     "execution_count": 8,
     "metadata": {},
     "output_type": "execute_result"
    }
   ],
   "source": [
    "%%sql\n",
    "SELECT Team, Count(Medal) as Medals\n",
    "FROM athletes\n",
    "GROUP BY Team ORDER BY Medals DESC LIMIT 5"
   ]
  },
  {
   "cell_type": "markdown",
   "id": "2131fbad",
   "metadata": {},
   "source": [
    "#### 3. List down total gold medals won by each country."
   ]
  },
  {
   "cell_type": "code",
   "execution_count": 9,
   "id": "fbef5a40",
   "metadata": {},
   "outputs": [
    {
     "name": "stdout",
     "output_type": "stream",
     "text": [
      " * sqlite:///athletes.db\n",
      "Done.\n"
     ]
    },
    {
     "data": {
      "text/html": [
       "<table>\n",
       "    <tr>\n",
       "        <th>Team</th>\n",
       "        <th>Medals</th>\n",
       "    </tr>\n",
       "    <tr>\n",
       "        <td>United States</td>\n",
       "        <td>7</td>\n",
       "    </tr>\n",
       "    <tr>\n",
       "        <td>Soviet Union</td>\n",
       "        <td>6</td>\n",
       "    </tr>\n",
       "    <tr>\n",
       "        <td>Sweden</td>\n",
       "        <td>5</td>\n",
       "    </tr>\n",
       "    <tr>\n",
       "        <td>Russia</td>\n",
       "        <td>5</td>\n",
       "    </tr>\n",
       "    <tr>\n",
       "        <td>Italy</td>\n",
       "        <td>5</td>\n",
       "    </tr>\n",
       "    <tr>\n",
       "        <td>France</td>\n",
       "        <td>5</td>\n",
       "    </tr>\n",
       "    <tr>\n",
       "        <td>South Korea</td>\n",
       "        <td>4</td>\n",
       "    </tr>\n",
       "    <tr>\n",
       "        <td>Norway</td>\n",
       "        <td>4</td>\n",
       "    </tr>\n",
       "    <tr>\n",
       "        <td>Great Britain</td>\n",
       "        <td>4</td>\n",
       "    </tr>\n",
       "    <tr>\n",
       "        <td>Germany</td>\n",
       "        <td>4</td>\n",
       "    </tr>\n",
       "    <tr>\n",
       "        <td>Netherlands</td>\n",
       "        <td>3</td>\n",
       "    </tr>\n",
       "    <tr>\n",
       "        <td>Japan</td>\n",
       "        <td>3</td>\n",
       "    </tr>\n",
       "    <tr>\n",
       "        <td>Hungary</td>\n",
       "        <td>3</td>\n",
       "    </tr>\n",
       "    <tr>\n",
       "        <td>Canada</td>\n",
       "        <td>3</td>\n",
       "    </tr>\n",
       "    <tr>\n",
       "        <td>Brazil</td>\n",
       "        <td>3</td>\n",
       "    </tr>\n",
       "    <tr>\n",
       "        <td>Australia</td>\n",
       "        <td>3</td>\n",
       "    </tr>\n",
       "    <tr>\n",
       "        <td>United States-1</td>\n",
       "        <td>2</td>\n",
       "    </tr>\n",
       "    <tr>\n",
       "        <td>Switzerland</td>\n",
       "        <td>2</td>\n",
       "    </tr>\n",
       "    <tr>\n",
       "        <td>Spain</td>\n",
       "        <td>2</td>\n",
       "    </tr>\n",
       "    <tr>\n",
       "        <td>Finland</td>\n",
       "        <td>2</td>\n",
       "    </tr>\n",
       "    <tr>\n",
       "        <td>Denmark</td>\n",
       "        <td>2</td>\n",
       "    </tr>\n",
       "    <tr>\n",
       "        <td>Czechoslovakia</td>\n",
       "        <td>2</td>\n",
       "    </tr>\n",
       "    <tr>\n",
       "        <td>Cuba</td>\n",
       "        <td>2</td>\n",
       "    </tr>\n",
       "    <tr>\n",
       "        <td>Belgium</td>\n",
       "        <td>2</td>\n",
       "    </tr>\n",
       "    <tr>\n",
       "        <td>Zimbabwe</td>\n",
       "        <td>1</td>\n",
       "    </tr>\n",
       "    <tr>\n",
       "        <td>White Lady</td>\n",
       "        <td>1</td>\n",
       "    </tr>\n",
       "    <tr>\n",
       "        <td>West Germany</td>\n",
       "        <td>1</td>\n",
       "    </tr>\n",
       "    <tr>\n",
       "        <td>Unified Team</td>\n",
       "        <td>1</td>\n",
       "    </tr>\n",
       "    <tr>\n",
       "        <td>Turkey</td>\n",
       "        <td>1</td>\n",
       "    </tr>\n",
       "    <tr>\n",
       "        <td>Switzerland-1</td>\n",
       "        <td>1</td>\n",
       "    </tr>\n",
       "    <tr>\n",
       "        <td>Romania</td>\n",
       "        <td>1</td>\n",
       "    </tr>\n",
       "    <tr>\n",
       "        <td>Poland</td>\n",
       "        <td>1</td>\n",
       "    </tr>\n",
       "    <tr>\n",
       "        <td>Nigeria</td>\n",
       "        <td>1</td>\n",
       "    </tr>\n",
       "    <tr>\n",
       "        <td>New Zealand</td>\n",
       "        <td>1</td>\n",
       "    </tr>\n",
       "    <tr>\n",
       "        <td>Llanoria</td>\n",
       "        <td>1</td>\n",
       "    </tr>\n",
       "    <tr>\n",
       "        <td>Kenya</td>\n",
       "        <td>1</td>\n",
       "    </tr>\n",
       "    <tr>\n",
       "        <td>India</td>\n",
       "        <td>1</td>\n",
       "    </tr>\n",
       "    <tr>\n",
       "        <td>Germany-1</td>\n",
       "        <td>1</td>\n",
       "    </tr>\n",
       "    <tr>\n",
       "        <td>England-1</td>\n",
       "        <td>1</td>\n",
       "    </tr>\n",
       "    <tr>\n",
       "        <td>East Germany</td>\n",
       "        <td>1</td>\n",
       "    </tr>\n",
       "    <tr>\n",
       "        <td>Czech Republic</td>\n",
       "        <td>1</td>\n",
       "    </tr>\n",
       "    <tr>\n",
       "        <td>China</td>\n",
       "        <td>1</td>\n",
       "    </tr>\n",
       "    <tr>\n",
       "        <td>Brazil-1</td>\n",
       "        <td>1</td>\n",
       "    </tr>\n",
       "    <tr>\n",
       "        <td>Barrenjoey</td>\n",
       "        <td>1</td>\n",
       "    </tr>\n",
       "    <tr>\n",
       "        <td>Azerbaijan</td>\n",
       "        <td>1</td>\n",
       "    </tr>\n",
       "</table>"
      ],
      "text/plain": [
       "[('United States', 7),\n",
       " ('Soviet Union', 6),\n",
       " ('Sweden', 5),\n",
       " ('Russia', 5),\n",
       " ('Italy', 5),\n",
       " ('France', 5),\n",
       " ('South Korea', 4),\n",
       " ('Norway', 4),\n",
       " ('Great Britain', 4),\n",
       " ('Germany', 4),\n",
       " ('Netherlands', 3),\n",
       " ('Japan', 3),\n",
       " ('Hungary', 3),\n",
       " ('Canada', 3),\n",
       " ('Brazil', 3),\n",
       " ('Australia', 3),\n",
       " ('United States-1', 2),\n",
       " ('Switzerland', 2),\n",
       " ('Spain', 2),\n",
       " ('Finland', 2),\n",
       " ('Denmark', 2),\n",
       " ('Czechoslovakia', 2),\n",
       " ('Cuba', 2),\n",
       " ('Belgium', 2),\n",
       " ('Zimbabwe', 1),\n",
       " ('White Lady', 1),\n",
       " ('West Germany', 1),\n",
       " ('Unified Team', 1),\n",
       " ('Turkey', 1),\n",
       " ('Switzerland-1', 1),\n",
       " ('Romania', 1),\n",
       " ('Poland', 1),\n",
       " ('Nigeria', 1),\n",
       " ('New Zealand', 1),\n",
       " ('Llanoria', 1),\n",
       " ('Kenya', 1),\n",
       " ('India', 1),\n",
       " ('Germany-1', 1),\n",
       " ('England-1', 1),\n",
       " ('East Germany', 1),\n",
       " ('Czech Republic', 1),\n",
       " ('China', 1),\n",
       " ('Brazil-1', 1),\n",
       " ('Barrenjoey', 1),\n",
       " ('Azerbaijan', 1)]"
      ]
     },
     "execution_count": 9,
     "metadata": {},
     "output_type": "execute_result"
    }
   ],
   "source": [
    "%%sql\n",
    "SELECT Team, Count(Medal) as Medals\n",
    "FROM athletes\n",
    "WHERE Medal = 'Gold' GROUP BY Team ORDER BY Medals DESC"
   ]
  },
  {
   "cell_type": "markdown",
   "id": "1dbc74c7",
   "metadata": {},
   "source": [
    "#### 4. Identify which country won the most bronze medals."
   ]
  },
  {
   "cell_type": "code",
   "execution_count": 10,
   "id": "802abe64",
   "metadata": {},
   "outputs": [
    {
     "name": "stdout",
     "output_type": "stream",
     "text": [
      " * sqlite:///athletes.db\n",
      "Done.\n"
     ]
    },
    {
     "data": {
      "text/html": [
       "<table>\n",
       "    <tr>\n",
       "        <th>Team</th>\n",
       "        <th>Medals</th>\n",
       "    </tr>\n",
       "    <tr>\n",
       "        <td>Germany</td>\n",
       "        <td>10</td>\n",
       "    </tr>\n",
       "</table>"
      ],
      "text/plain": [
       "[('Germany', 10)]"
      ]
     },
     "execution_count": 10,
     "metadata": {},
     "output_type": "execute_result"
    }
   ],
   "source": [
    "%%sql\n",
    "SELECT Team, Count(Medal) as Medals\n",
    "FROM athletes\n",
    "WHERE Medal = 'Bronze' GROUP BY Team ORDER BY Medals DESC LIMIT 1"
   ]
  },
  {
   "cell_type": "markdown",
   "id": "d8ca8b70",
   "metadata": {},
   "source": [
    "#### 5. In which Sport/event, has United States won the highest medals?"
   ]
  },
  {
   "cell_type": "code",
   "execution_count": 11,
   "id": "ddccb822",
   "metadata": {},
   "outputs": [
    {
     "name": "stdout",
     "output_type": "stream",
     "text": [
      " * sqlite:///athletes.db\n",
      "Done.\n"
     ]
    },
    {
     "data": {
      "text/html": [
       "<table>\n",
       "    <tr>\n",
       "        <th>Team</th>\n",
       "        <th>Sport</th>\n",
       "        <th>Medals</th>\n",
       "    </tr>\n",
       "    <tr>\n",
       "        <td>United States</td>\n",
       "        <td>Art Competitions</td>\n",
       "        <td>31</td>\n",
       "    </tr>\n",
       "</table>"
      ],
      "text/plain": [
       "[('United States', 'Art Competitions', 31)]"
      ]
     },
     "execution_count": 11,
     "metadata": {},
     "output_type": "execute_result"
    }
   ],
   "source": [
    "%%sql\n",
    "SELECT Team, Sport, Count(Medal) as Medals\n",
    "FROM athletes\n",
    "WHERE Team = 'United States' GROUP BY Team"
   ]
  },
  {
   "cell_type": "markdown",
   "id": "637b47c3",
   "metadata": {},
   "source": [
    "#### 6. Break down all olympic games where india won medal for Hockey and how many medals in each olympic games."
   ]
  },
  {
   "cell_type": "code",
   "execution_count": 12,
   "id": "22ca5857",
   "metadata": {},
   "outputs": [
    {
     "name": "stdout",
     "output_type": "stream",
     "text": [
      " * sqlite:///athletes.db\n",
      "Done.\n"
     ]
    },
    {
     "data": {
      "text/html": [
       "<table>\n",
       "    <tr>\n",
       "        <th>Games</th>\n",
       "        <th>Sport</th>\n",
       "        <th>Medals</th>\n",
       "    </tr>\n",
       "    <tr>\n",
       "        <td>1956 Summer</td>\n",
       "        <td>Hockey</td>\n",
       "        <td>1</td>\n",
       "    </tr>\n",
       "</table>"
      ],
      "text/plain": [
       "[('1956 Summer', 'Hockey', 1)]"
      ]
     },
     "execution_count": 12,
     "metadata": {},
     "output_type": "execute_result"
    }
   ],
   "source": [
    "%%sql\n",
    "SELECT Games, Sport, Count(Medal) as Medals\n",
    "FROM athletes\n",
    "WHERE (Team = 'India' AND Sport = 'Hockey') GROUP BY Games"
   ]
  },
  {
   "cell_type": "markdown",
   "id": "1661f101",
   "metadata": {},
   "source": [
    "<div class=\"alert alert-block alert-danger\">\n",
    "    <h1>CLOSE DB CONNECTION!!!</h1>\n",
    "</div>"
   ]
  },
  {
   "cell_type": "code",
   "execution_count": 13,
   "id": "1076e0bb",
   "metadata": {},
   "outputs": [],
   "source": [
    "con.close()"
   ]
  },
  {
   "cell_type": "code",
   "execution_count": null,
   "id": "20fa994a",
   "metadata": {},
   "outputs": [],
   "source": []
  }
 ],
 "metadata": {
  "kernelspec": {
   "display_name": "Python 3 (ipykernel)",
   "language": "python",
   "name": "python3"
  },
  "language_info": {
   "codemirror_mode": {
    "name": "ipython",
    "version": 3
   },
   "file_extension": ".py",
   "mimetype": "text/x-python",
   "name": "python",
   "nbconvert_exporter": "python",
   "pygments_lexer": "ipython3",
   "version": "3.9.12"
  }
 },
 "nbformat": 4,
 "nbformat_minor": 5
}
